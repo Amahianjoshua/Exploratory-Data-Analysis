{
 "cells": [
  {
   "cell_type": "markdown",
   "id": "44bea392-e09f-4164-a6fc-e06278875487",
   "metadata": {},
   "source": [
    "# 🛍️ Retail Sales Analysis\n",
    "## 🎯 Objective\n",
    "This analysis aims to extract insights from sales data to support business decisions in the areas of:\n",
    "- Inventory management\n",
    "- Customer satisfaction\n",
    "- Revenue optimization\n",
    "\n",
    "## 🗃️ Dataset Overview\n",
    "The dataset used in this analysis was sourced from [📂 *Retail Sales Dataset on Kaggle*](https://www.kaggle.com/datasets/mohammadtalib786/retail-sales-dataset). It contains transactional records from a retail store, capturing both customer and sales-related details. The main features include:\n",
    "\n",
    "\n",
    "-  Transaction ID : Unique identifier for each transaction\n",
    "- Date : The date of purchase\n",
    "- Customer ID : Unique identifier for each customer\n",
    "- Gender : Gender of the customer\n",
    "- Age : Customer's Age\n",
    "- Product Category : Type of Product Purchased\n",
    "- Quantity : Number of units bought\n",
    "- Price Per Unit : Price of a single unit of the product\n",
    "- Total Amount : Total amount paid for the transaction (Quantity x Price per unit)\n",
    "\n",
    "We aim to understand trends, behaviors, and patterns within this data.\n",
    "\n",
    "## ❓ Key Business Questions\n",
    "\n",
    "1. What is the Gender distribution of customers\n",
    "2. Which product categories generate the most revenue?\n",
    "3. How do Sales trends change across different months of the year?\n",
    "4. Which age group spends the most on retail products?\n",
    "5. Relationship between Product Price and Quantity sold\n",
    "\n",
    "\n"
   ]
  },
  {
   "cell_type": "markdown",
   "id": "82c4ccd9-84f8-40ed-ab59-fd2872b1521a",
   "metadata": {},
   "source": [
    "📦 **Import Libraries**\n",
    "\n",
    "In this step, we will import all necessary libraries required for data analysis and visualization, such as pandas, numpy, matplotlib, seaborn, etc.\n"
   ]
  },
  {
   "cell_type": "code",
   "execution_count": 2,
   "id": "60ebaedf-c053-447b-be59-2afd62040e33",
   "metadata": {},
   "outputs": [],
   "source": [
    "import numpy as np\n",
    "import pandas as pd\n",
    "import matplotlib.pyplot as plt\n",
    "import seaborn as sns\n",
    "import warnings\n",
    "warnings.filterwarnings('ignore', category=FutureWarning)"
   ]
  },
  {
   "cell_type": "markdown",
   "id": "6e29ca45-edcf-4e55-9c07-8878d15e0171",
   "metadata": {},
   "source": [
    "🧾 **Load and Preview Dataset**\n",
    "\n",
    "In this step, we will load the dataset into a pandas DataFrame and preview the first few rows to understand its structure and contents.\n"
   ]
  },
  {
   "cell_type": "code",
   "execution_count": 3,
   "id": "2e44082a-5de2-4a54-8afd-8be72a777550",
   "metadata": {},
   "outputs": [
    {
     "data": {
      "text/html": [
       "<div>\n",
       "<style scoped>\n",
       "    .dataframe tbody tr th:only-of-type {\n",
       "        vertical-align: middle;\n",
       "    }\n",
       "\n",
       "    .dataframe tbody tr th {\n",
       "        vertical-align: top;\n",
       "    }\n",
       "\n",
       "    .dataframe thead th {\n",
       "        text-align: right;\n",
       "    }\n",
       "</style>\n",
       "<table border=\"1\" class=\"dataframe\">\n",
       "  <thead>\n",
       "    <tr style=\"text-align: right;\">\n",
       "      <th></th>\n",
       "      <th>Transaction ID</th>\n",
       "      <th>Date</th>\n",
       "      <th>Customer ID</th>\n",
       "      <th>Gender</th>\n",
       "      <th>Age</th>\n",
       "      <th>Product Category</th>\n",
       "      <th>Quantity</th>\n",
       "      <th>Price per Unit</th>\n",
       "      <th>Total Amount</th>\n",
       "    </tr>\n",
       "  </thead>\n",
       "  <tbody>\n",
       "    <tr>\n",
       "      <th>0</th>\n",
       "      <td>1</td>\n",
       "      <td>2023-11-24</td>\n",
       "      <td>CUST001</td>\n",
       "      <td>Male</td>\n",
       "      <td>34</td>\n",
       "      <td>Beauty</td>\n",
       "      <td>3</td>\n",
       "      <td>50</td>\n",
       "      <td>150</td>\n",
       "    </tr>\n",
       "    <tr>\n",
       "      <th>1</th>\n",
       "      <td>2</td>\n",
       "      <td>2023-02-27</td>\n",
       "      <td>CUST002</td>\n",
       "      <td>Female</td>\n",
       "      <td>26</td>\n",
       "      <td>Clothing</td>\n",
       "      <td>2</td>\n",
       "      <td>500</td>\n",
       "      <td>1000</td>\n",
       "    </tr>\n",
       "    <tr>\n",
       "      <th>2</th>\n",
       "      <td>3</td>\n",
       "      <td>2023-01-13</td>\n",
       "      <td>CUST003</td>\n",
       "      <td>Male</td>\n",
       "      <td>50</td>\n",
       "      <td>Electronics</td>\n",
       "      <td>1</td>\n",
       "      <td>30</td>\n",
       "      <td>30</td>\n",
       "    </tr>\n",
       "    <tr>\n",
       "      <th>3</th>\n",
       "      <td>4</td>\n",
       "      <td>2023-05-21</td>\n",
       "      <td>CUST004</td>\n",
       "      <td>Male</td>\n",
       "      <td>37</td>\n",
       "      <td>Clothing</td>\n",
       "      <td>1</td>\n",
       "      <td>500</td>\n",
       "      <td>500</td>\n",
       "    </tr>\n",
       "    <tr>\n",
       "      <th>4</th>\n",
       "      <td>5</td>\n",
       "      <td>2023-05-06</td>\n",
       "      <td>CUST005</td>\n",
       "      <td>Male</td>\n",
       "      <td>30</td>\n",
       "      <td>Beauty</td>\n",
       "      <td>2</td>\n",
       "      <td>50</td>\n",
       "      <td>100</td>\n",
       "    </tr>\n",
       "  </tbody>\n",
       "</table>\n",
       "</div>"
      ],
      "text/plain": [
       "   Transaction ID        Date Customer ID  Gender  Age Product Category  \\\n",
       "0               1  2023-11-24     CUST001    Male   34           Beauty   \n",
       "1               2  2023-02-27     CUST002  Female   26         Clothing   \n",
       "2               3  2023-01-13     CUST003    Male   50      Electronics   \n",
       "3               4  2023-05-21     CUST004    Male   37         Clothing   \n",
       "4               5  2023-05-06     CUST005    Male   30           Beauty   \n",
       "\n",
       "   Quantity  Price per Unit  Total Amount  \n",
       "0         3              50           150  \n",
       "1         2             500          1000  \n",
       "2         1              30            30  \n",
       "3         1             500           500  \n",
       "4         2              50           100  "
      ]
     },
     "execution_count": 3,
     "metadata": {},
     "output_type": "execute_result"
    }
   ],
   "source": [
    "df=pd.read_csv(r\"C:\\Users\\joshua\\Documents\\Data Analytics and Machine Learning Project\\Retail prices EDA\\retail_sales_dataset.csv\")\n",
    "df.head()"
   ]
  },
  {
   "cell_type": "code",
   "execution_count": 4,
   "id": "1a5fdb7c-b0d8-468b-85d0-905ec44890aa",
   "metadata": {},
   "outputs": [
    {
     "data": {
      "text/plain": [
       "(1000, 9)"
      ]
     },
     "execution_count": 4,
     "metadata": {},
     "output_type": "execute_result"
    }
   ],
   "source": [
    "# shape of the dataset\n",
    "df.shape"
   ]
  },
  {
   "cell_type": "markdown",
   "id": "31e9a5fc-773c-4629-a1ba-648d2462a925",
   "metadata": {},
   "source": [
    "The dataset has 1000 rows and 9 columns"
   ]
  },
  {
   "cell_type": "code",
   "execution_count": 5,
   "id": "4259b3bf-8ec3-411b-940f-91a04fa7eabd",
   "metadata": {},
   "outputs": [
    {
     "name": "stdout",
     "output_type": "stream",
     "text": [
      "<class 'pandas.core.frame.DataFrame'>\n",
      "RangeIndex: 1000 entries, 0 to 999\n",
      "Data columns (total 9 columns):\n",
      " #   Column            Non-Null Count  Dtype \n",
      "---  ------            --------------  ----- \n",
      " 0   Transaction ID    1000 non-null   int64 \n",
      " 1   Date              1000 non-null   object\n",
      " 2   Customer ID       1000 non-null   object\n",
      " 3   Gender            1000 non-null   object\n",
      " 4   Age               1000 non-null   int64 \n",
      " 5   Product Category  1000 non-null   object\n",
      " 6   Quantity          1000 non-null   int64 \n",
      " 7   Price per Unit    1000 non-null   int64 \n",
      " 8   Total Amount      1000 non-null   int64 \n",
      "dtypes: int64(5), object(4)\n",
      "memory usage: 70.4+ KB\n"
     ]
    }
   ],
   "source": [
    "df.info()"
   ]
  },
  {
   "cell_type": "markdown",
   "id": "d70ecf39-5f13-4980-be1c-08d42927afd1",
   "metadata": {},
   "source": [
    "Incorrect datatype for the Date column"
   ]
  },
  {
   "cell_type": "code",
   "execution_count": 6,
   "id": "8ac48b7b-6ce8-4bf4-890c-147a9076c231",
   "metadata": {},
   "outputs": [
    {
     "data": {
      "text/html": [
       "<div>\n",
       "<style scoped>\n",
       "    .dataframe tbody tr th:only-of-type {\n",
       "        vertical-align: middle;\n",
       "    }\n",
       "\n",
       "    .dataframe tbody tr th {\n",
       "        vertical-align: top;\n",
       "    }\n",
       "\n",
       "    .dataframe thead th {\n",
       "        text-align: right;\n",
       "    }\n",
       "</style>\n",
       "<table border=\"1\" class=\"dataframe\">\n",
       "  <thead>\n",
       "    <tr style=\"text-align: right;\">\n",
       "      <th></th>\n",
       "      <th>Transaction ID</th>\n",
       "      <th>Age</th>\n",
       "      <th>Quantity</th>\n",
       "      <th>Price per Unit</th>\n",
       "      <th>Total Amount</th>\n",
       "    </tr>\n",
       "  </thead>\n",
       "  <tbody>\n",
       "    <tr>\n",
       "      <th>count</th>\n",
       "      <td>1000.000000</td>\n",
       "      <td>1000.00000</td>\n",
       "      <td>1000.000000</td>\n",
       "      <td>1000.000000</td>\n",
       "      <td>1000.000000</td>\n",
       "    </tr>\n",
       "    <tr>\n",
       "      <th>mean</th>\n",
       "      <td>500.500000</td>\n",
       "      <td>41.39200</td>\n",
       "      <td>2.514000</td>\n",
       "      <td>179.890000</td>\n",
       "      <td>456.000000</td>\n",
       "    </tr>\n",
       "    <tr>\n",
       "      <th>std</th>\n",
       "      <td>288.819436</td>\n",
       "      <td>13.68143</td>\n",
       "      <td>1.132734</td>\n",
       "      <td>189.681356</td>\n",
       "      <td>559.997632</td>\n",
       "    </tr>\n",
       "    <tr>\n",
       "      <th>min</th>\n",
       "      <td>1.000000</td>\n",
       "      <td>18.00000</td>\n",
       "      <td>1.000000</td>\n",
       "      <td>25.000000</td>\n",
       "      <td>25.000000</td>\n",
       "    </tr>\n",
       "    <tr>\n",
       "      <th>25%</th>\n",
       "      <td>250.750000</td>\n",
       "      <td>29.00000</td>\n",
       "      <td>1.000000</td>\n",
       "      <td>30.000000</td>\n",
       "      <td>60.000000</td>\n",
       "    </tr>\n",
       "    <tr>\n",
       "      <th>50%</th>\n",
       "      <td>500.500000</td>\n",
       "      <td>42.00000</td>\n",
       "      <td>3.000000</td>\n",
       "      <td>50.000000</td>\n",
       "      <td>135.000000</td>\n",
       "    </tr>\n",
       "    <tr>\n",
       "      <th>75%</th>\n",
       "      <td>750.250000</td>\n",
       "      <td>53.00000</td>\n",
       "      <td>4.000000</td>\n",
       "      <td>300.000000</td>\n",
       "      <td>900.000000</td>\n",
       "    </tr>\n",
       "    <tr>\n",
       "      <th>max</th>\n",
       "      <td>1000.000000</td>\n",
       "      <td>64.00000</td>\n",
       "      <td>4.000000</td>\n",
       "      <td>500.000000</td>\n",
       "      <td>2000.000000</td>\n",
       "    </tr>\n",
       "  </tbody>\n",
       "</table>\n",
       "</div>"
      ],
      "text/plain": [
       "       Transaction ID         Age     Quantity  Price per Unit  Total Amount\n",
       "count     1000.000000  1000.00000  1000.000000     1000.000000   1000.000000\n",
       "mean       500.500000    41.39200     2.514000      179.890000    456.000000\n",
       "std        288.819436    13.68143     1.132734      189.681356    559.997632\n",
       "min          1.000000    18.00000     1.000000       25.000000     25.000000\n",
       "25%        250.750000    29.00000     1.000000       30.000000     60.000000\n",
       "50%        500.500000    42.00000     3.000000       50.000000    135.000000\n",
       "75%        750.250000    53.00000     4.000000      300.000000    900.000000\n",
       "max       1000.000000    64.00000     4.000000      500.000000   2000.000000"
      ]
     },
     "execution_count": 6,
     "metadata": {},
     "output_type": "execute_result"
    }
   ],
   "source": [
    "df.describe()"
   ]
  },
  {
   "cell_type": "code",
   "execution_count": 7,
   "id": "5e6da738-4886-4ef9-88ba-7b754e02c4b2",
   "metadata": {},
   "outputs": [
    {
     "data": {
      "text/plain": [
       "Transaction ID      0\n",
       "Date                0\n",
       "Customer ID         0\n",
       "Gender              0\n",
       "Age                 0\n",
       "Product Category    0\n",
       "Quantity            0\n",
       "Price per Unit      0\n",
       "Total Amount        0\n",
       "dtype: int64"
      ]
     },
     "execution_count": 7,
     "metadata": {},
     "output_type": "execute_result"
    }
   ],
   "source": [
    "# check for missing value\n",
    "df.isna().sum()"
   ]
  },
  {
   "cell_type": "markdown",
   "id": "0be69676-01d2-4753-9209-03584c1a9d71",
   "metadata": {},
   "source": [
    "No missing values in the dataset"
   ]
  },
  {
   "cell_type": "code",
   "execution_count": 8,
   "id": "0c8e666a-da84-407d-8da1-e58c49ae0030",
   "metadata": {},
   "outputs": [
    {
     "data": {
      "text/plain": [
       "0"
      ]
     },
     "execution_count": 8,
     "metadata": {},
     "output_type": "execute_result"
    }
   ],
   "source": [
    "# check for duplicates\n",
    "df.duplicated().sum()"
   ]
  },
  {
   "cell_type": "markdown",
   "id": "ea0b78d5-9023-4524-a2b0-d3c3d2d70584",
   "metadata": {},
   "source": [
    "Absence of duplicates in the dataset"
   ]
  },
  {
   "cell_type": "code",
   "execution_count": 9,
   "id": "7cd1e780-fbed-492f-9b50-225753b0510e",
   "metadata": {},
   "outputs": [
    {
     "data": {
      "text/plain": [
       "Index(['Transaction ID', 'Date', 'Customer ID', 'Gender', 'Age',\n",
       "       'Product Category', 'Quantity', 'Price per Unit', 'Total Amount'],\n",
       "      dtype='object')"
      ]
     },
     "execution_count": 9,
     "metadata": {},
     "output_type": "execute_result"
    }
   ],
   "source": [
    "df.columns"
   ]
  },
  {
   "cell_type": "code",
   "execution_count": 10,
   "id": "1b83951d-5799-416c-bb69-e0c22c7f554e",
   "metadata": {},
   "outputs": [
    {
     "data": {
      "text/plain": [
       "array(['Beauty', 'Clothing', 'Electronics'], dtype=object)"
      ]
     },
     "execution_count": 10,
     "metadata": {},
     "output_type": "execute_result"
    }
   ],
   "source": [
    "df['Product Category'].unique()"
   ]
  },
  {
   "cell_type": "code",
   "execution_count": 11,
   "id": "bc748e27-606e-45e3-8105-28916629db8a",
   "metadata": {},
   "outputs": [
    {
     "data": {
      "text/plain": [
       "array([ 50, 500,  30,  25, 300], dtype=int64)"
      ]
     },
     "execution_count": 11,
     "metadata": {},
     "output_type": "execute_result"
    }
   ],
   "source": [
    "df['Price per Unit'].unique()"
   ]
  },
  {
   "cell_type": "code",
   "execution_count": 12,
   "id": "6a1cbb5e-6167-46b5-ad99-1010a1c93444",
   "metadata": {},
   "outputs": [
    {
     "data": {
      "text/plain": [
       "array([34, 26, 50, 37, 30, 45, 46, 63, 52, 23, 35, 22, 64, 42, 19, 27, 47,\n",
       "       62, 18, 49, 28, 38, 43, 39, 44, 51, 58, 48, 55, 20, 40, 54, 36, 31,\n",
       "       21, 57, 25, 56, 29, 61, 32, 41, 59, 60, 33, 53, 24], dtype=int64)"
      ]
     },
     "execution_count": 12,
     "metadata": {},
     "output_type": "execute_result"
    }
   ],
   "source": [
    "df['Age'].unique()"
   ]
  },
  {
   "cell_type": "markdown",
   "id": "5b618141-fdb2-4cb4-9994-1ed05fd520f7",
   "metadata": {},
   "source": [
    "🧹  **Data Cleaning and Preprocessing**"
   ]
  },
  {
   "cell_type": "code",
   "execution_count": 13,
   "id": "f3711dd4-48c8-41a4-aead-0ab0354f235c",
   "metadata": {},
   "outputs": [],
   "source": [
    "# converting the Date column from object to datetime datatype\n",
    "\n",
    "df['Date']=pd.to_datetime(df['Date'], errors='coerce')"
   ]
  },
  {
   "cell_type": "code",
   "execution_count": 14,
   "id": "b925e42b-1c5e-4588-a471-11b92dee2d1f",
   "metadata": {},
   "outputs": [
    {
     "data": {
      "text/plain": [
       "Transaction ID               int64\n",
       "Date                datetime64[ns]\n",
       "Customer ID                 object\n",
       "Gender                      object\n",
       "Age                          int64\n",
       "Product Category            object\n",
       "Quantity                     int64\n",
       "Price per Unit               int64\n",
       "Total Amount                 int64\n",
       "dtype: object"
      ]
     },
     "execution_count": 14,
     "metadata": {},
     "output_type": "execute_result"
    }
   ],
   "source": [
    "df.dtypes"
   ]
  },
  {
   "cell_type": "markdown",
   "id": "85a65218-0bda-49ea-83f1-fead82d96f3d",
   "metadata": {},
   "source": [
    "*Age Grouping*"
   ]
  },
  {
   "cell_type": "code",
   "execution_count": 15,
   "id": "76e452e6-f095-4586-920f-54c1bc345535",
   "metadata": {},
   "outputs": [],
   "source": [
    "bins =[15, 22, 30, 40, 55, 65]\n",
    "labels=['Students (16-22)', 'Young Professionals (23-30)', 'Settled Adults (31-40)', 'Mature Adults (41-55)', 'Seniors (56-65)']\n",
    "df['Age_Group']=pd.cut(df['Age'], bins=bins, labels=labels, right=False)"
   ]
  },
  {
   "cell_type": "code",
   "execution_count": 16,
   "id": "1c46a0b4-3619-42eb-ae80-fbeba7874c78",
   "metadata": {},
   "outputs": [
    {
     "data": {
      "text/html": [
       "<div>\n",
       "<style scoped>\n",
       "    .dataframe tbody tr th:only-of-type {\n",
       "        vertical-align: middle;\n",
       "    }\n",
       "\n",
       "    .dataframe tbody tr th {\n",
       "        vertical-align: top;\n",
       "    }\n",
       "\n",
       "    .dataframe thead th {\n",
       "        text-align: right;\n",
       "    }\n",
       "</style>\n",
       "<table border=\"1\" class=\"dataframe\">\n",
       "  <thead>\n",
       "    <tr style=\"text-align: right;\">\n",
       "      <th></th>\n",
       "      <th>Transaction ID</th>\n",
       "      <th>Date</th>\n",
       "      <th>Customer ID</th>\n",
       "      <th>Gender</th>\n",
       "      <th>Age</th>\n",
       "      <th>Product Category</th>\n",
       "      <th>Quantity</th>\n",
       "      <th>Price per Unit</th>\n",
       "      <th>Total Amount</th>\n",
       "      <th>Age_Group</th>\n",
       "    </tr>\n",
       "  </thead>\n",
       "  <tbody>\n",
       "    <tr>\n",
       "      <th>0</th>\n",
       "      <td>1</td>\n",
       "      <td>2023-11-24</td>\n",
       "      <td>CUST001</td>\n",
       "      <td>Male</td>\n",
       "      <td>34</td>\n",
       "      <td>Beauty</td>\n",
       "      <td>3</td>\n",
       "      <td>50</td>\n",
       "      <td>150</td>\n",
       "      <td>Settled Adults (31-40)</td>\n",
       "    </tr>\n",
       "    <tr>\n",
       "      <th>1</th>\n",
       "      <td>2</td>\n",
       "      <td>2023-02-27</td>\n",
       "      <td>CUST002</td>\n",
       "      <td>Female</td>\n",
       "      <td>26</td>\n",
       "      <td>Clothing</td>\n",
       "      <td>2</td>\n",
       "      <td>500</td>\n",
       "      <td>1000</td>\n",
       "      <td>Young Professionals (23-30)</td>\n",
       "    </tr>\n",
       "    <tr>\n",
       "      <th>2</th>\n",
       "      <td>3</td>\n",
       "      <td>2023-01-13</td>\n",
       "      <td>CUST003</td>\n",
       "      <td>Male</td>\n",
       "      <td>50</td>\n",
       "      <td>Electronics</td>\n",
       "      <td>1</td>\n",
       "      <td>30</td>\n",
       "      <td>30</td>\n",
       "      <td>Mature Adults (41-55)</td>\n",
       "    </tr>\n",
       "    <tr>\n",
       "      <th>3</th>\n",
       "      <td>4</td>\n",
       "      <td>2023-05-21</td>\n",
       "      <td>CUST004</td>\n",
       "      <td>Male</td>\n",
       "      <td>37</td>\n",
       "      <td>Clothing</td>\n",
       "      <td>1</td>\n",
       "      <td>500</td>\n",
       "      <td>500</td>\n",
       "      <td>Settled Adults (31-40)</td>\n",
       "    </tr>\n",
       "    <tr>\n",
       "      <th>4</th>\n",
       "      <td>5</td>\n",
       "      <td>2023-05-06</td>\n",
       "      <td>CUST005</td>\n",
       "      <td>Male</td>\n",
       "      <td>30</td>\n",
       "      <td>Beauty</td>\n",
       "      <td>2</td>\n",
       "      <td>50</td>\n",
       "      <td>100</td>\n",
       "      <td>Settled Adults (31-40)</td>\n",
       "    </tr>\n",
       "  </tbody>\n",
       "</table>\n",
       "</div>"
      ],
      "text/plain": [
       "   Transaction ID       Date Customer ID  Gender  Age Product Category  \\\n",
       "0               1 2023-11-24     CUST001    Male   34           Beauty   \n",
       "1               2 2023-02-27     CUST002  Female   26         Clothing   \n",
       "2               3 2023-01-13     CUST003    Male   50      Electronics   \n",
       "3               4 2023-05-21     CUST004    Male   37         Clothing   \n",
       "4               5 2023-05-06     CUST005    Male   30           Beauty   \n",
       "\n",
       "   Quantity  Price per Unit  Total Amount                    Age_Group  \n",
       "0         3              50           150       Settled Adults (31-40)  \n",
       "1         2             500          1000  Young Professionals (23-30)  \n",
       "2         1              30            30        Mature Adults (41-55)  \n",
       "3         1             500           500       Settled Adults (31-40)  \n",
       "4         2              50           100       Settled Adults (31-40)  "
      ]
     },
     "execution_count": 16,
     "metadata": {},
     "output_type": "execute_result"
    }
   ],
   "source": [
    "df.head()"
   ]
  },
  {
   "cell_type": "code",
   "execution_count": 17,
   "id": "33cc85f8-d5e9-4625-a93c-4a2d10dcba91",
   "metadata": {},
   "outputs": [],
   "source": [
    "# dropping irrelevant columns\n",
    "df.drop(['Transaction ID', 'Age'], axis=1, inplace=True)"
   ]
  },
  {
   "cell_type": "code",
   "execution_count": 18,
   "id": "d854ec4a-98a4-45b5-b085-2d90339c222d",
   "metadata": {},
   "outputs": [
    {
     "data": {
      "text/html": [
       "<div>\n",
       "<style scoped>\n",
       "    .dataframe tbody tr th:only-of-type {\n",
       "        vertical-align: middle;\n",
       "    }\n",
       "\n",
       "    .dataframe tbody tr th {\n",
       "        vertical-align: top;\n",
       "    }\n",
       "\n",
       "    .dataframe thead th {\n",
       "        text-align: right;\n",
       "    }\n",
       "</style>\n",
       "<table border=\"1\" class=\"dataframe\">\n",
       "  <thead>\n",
       "    <tr style=\"text-align: right;\">\n",
       "      <th></th>\n",
       "      <th>Date</th>\n",
       "      <th>Customer ID</th>\n",
       "      <th>Gender</th>\n",
       "      <th>Product Category</th>\n",
       "      <th>Quantity</th>\n",
       "      <th>Price per Unit</th>\n",
       "      <th>Total Amount</th>\n",
       "      <th>Age_Group</th>\n",
       "    </tr>\n",
       "  </thead>\n",
       "  <tbody>\n",
       "    <tr>\n",
       "      <th>0</th>\n",
       "      <td>2023-11-24</td>\n",
       "      <td>CUST001</td>\n",
       "      <td>Male</td>\n",
       "      <td>Beauty</td>\n",
       "      <td>3</td>\n",
       "      <td>50</td>\n",
       "      <td>150</td>\n",
       "      <td>Settled Adults (31-40)</td>\n",
       "    </tr>\n",
       "    <tr>\n",
       "      <th>1</th>\n",
       "      <td>2023-02-27</td>\n",
       "      <td>CUST002</td>\n",
       "      <td>Female</td>\n",
       "      <td>Clothing</td>\n",
       "      <td>2</td>\n",
       "      <td>500</td>\n",
       "      <td>1000</td>\n",
       "      <td>Young Professionals (23-30)</td>\n",
       "    </tr>\n",
       "    <tr>\n",
       "      <th>2</th>\n",
       "      <td>2023-01-13</td>\n",
       "      <td>CUST003</td>\n",
       "      <td>Male</td>\n",
       "      <td>Electronics</td>\n",
       "      <td>1</td>\n",
       "      <td>30</td>\n",
       "      <td>30</td>\n",
       "      <td>Mature Adults (41-55)</td>\n",
       "    </tr>\n",
       "    <tr>\n",
       "      <th>3</th>\n",
       "      <td>2023-05-21</td>\n",
       "      <td>CUST004</td>\n",
       "      <td>Male</td>\n",
       "      <td>Clothing</td>\n",
       "      <td>1</td>\n",
       "      <td>500</td>\n",
       "      <td>500</td>\n",
       "      <td>Settled Adults (31-40)</td>\n",
       "    </tr>\n",
       "    <tr>\n",
       "      <th>4</th>\n",
       "      <td>2023-05-06</td>\n",
       "      <td>CUST005</td>\n",
       "      <td>Male</td>\n",
       "      <td>Beauty</td>\n",
       "      <td>2</td>\n",
       "      <td>50</td>\n",
       "      <td>100</td>\n",
       "      <td>Settled Adults (31-40)</td>\n",
       "    </tr>\n",
       "  </tbody>\n",
       "</table>\n",
       "</div>"
      ],
      "text/plain": [
       "        Date Customer ID  Gender Product Category  Quantity  Price per Unit  \\\n",
       "0 2023-11-24     CUST001    Male           Beauty         3              50   \n",
       "1 2023-02-27     CUST002  Female         Clothing         2             500   \n",
       "2 2023-01-13     CUST003    Male      Electronics         1              30   \n",
       "3 2023-05-21     CUST004    Male         Clothing         1             500   \n",
       "4 2023-05-06     CUST005    Male           Beauty         2              50   \n",
       "\n",
       "   Total Amount                    Age_Group  \n",
       "0           150       Settled Adults (31-40)  \n",
       "1          1000  Young Professionals (23-30)  \n",
       "2            30        Mature Adults (41-55)  \n",
       "3           500       Settled Adults (31-40)  \n",
       "4           100       Settled Adults (31-40)  "
      ]
     },
     "execution_count": 18,
     "metadata": {},
     "output_type": "execute_result"
    }
   ],
   "source": [
    "df.head()"
   ]
  },
  {
   "cell_type": "markdown",
   "id": "5dbdbc16-7080-4738-b268-80dd5b239864",
   "metadata": {},
   "source": [
    "*Extract year, month and day*"
   ]
  },
  {
   "cell_type": "code",
   "execution_count": 19,
   "id": "e4bb5bcf-3ffe-4bc5-b57e-5185027f65aa",
   "metadata": {},
   "outputs": [],
   "source": [
    "df['Year']=df['Date'].dt.year\n",
    "df['Month']=df['Date'].dt.month\n",
    "df['Day']=df['Date'].dt.day\n",
    "df['Weekday'] = df['Date'].dt.day_name()"
   ]
  },
  {
   "cell_type": "code",
   "execution_count": 20,
   "id": "8d0d6d9f-e00d-4cae-8759-21447be97786",
   "metadata": {},
   "outputs": [
    {
     "data": {
      "text/html": [
       "<div>\n",
       "<style scoped>\n",
       "    .dataframe tbody tr th:only-of-type {\n",
       "        vertical-align: middle;\n",
       "    }\n",
       "\n",
       "    .dataframe tbody tr th {\n",
       "        vertical-align: top;\n",
       "    }\n",
       "\n",
       "    .dataframe thead th {\n",
       "        text-align: right;\n",
       "    }\n",
       "</style>\n",
       "<table border=\"1\" class=\"dataframe\">\n",
       "  <thead>\n",
       "    <tr style=\"text-align: right;\">\n",
       "      <th></th>\n",
       "      <th>Date</th>\n",
       "      <th>Customer ID</th>\n",
       "      <th>Gender</th>\n",
       "      <th>Product Category</th>\n",
       "      <th>Quantity</th>\n",
       "      <th>Price per Unit</th>\n",
       "      <th>Total Amount</th>\n",
       "      <th>Age_Group</th>\n",
       "      <th>Year</th>\n",
       "      <th>Month</th>\n",
       "      <th>Day</th>\n",
       "      <th>Weekday</th>\n",
       "    </tr>\n",
       "  </thead>\n",
       "  <tbody>\n",
       "    <tr>\n",
       "      <th>0</th>\n",
       "      <td>2023-11-24</td>\n",
       "      <td>CUST001</td>\n",
       "      <td>Male</td>\n",
       "      <td>Beauty</td>\n",
       "      <td>3</td>\n",
       "      <td>50</td>\n",
       "      <td>150</td>\n",
       "      <td>Settled Adults (31-40)</td>\n",
       "      <td>2023</td>\n",
       "      <td>11</td>\n",
       "      <td>24</td>\n",
       "      <td>Friday</td>\n",
       "    </tr>\n",
       "    <tr>\n",
       "      <th>1</th>\n",
       "      <td>2023-02-27</td>\n",
       "      <td>CUST002</td>\n",
       "      <td>Female</td>\n",
       "      <td>Clothing</td>\n",
       "      <td>2</td>\n",
       "      <td>500</td>\n",
       "      <td>1000</td>\n",
       "      <td>Young Professionals (23-30)</td>\n",
       "      <td>2023</td>\n",
       "      <td>2</td>\n",
       "      <td>27</td>\n",
       "      <td>Monday</td>\n",
       "    </tr>\n",
       "  </tbody>\n",
       "</table>\n",
       "</div>"
      ],
      "text/plain": [
       "        Date Customer ID  Gender Product Category  Quantity  Price per Unit  \\\n",
       "0 2023-11-24     CUST001    Male           Beauty         3              50   \n",
       "1 2023-02-27     CUST002  Female         Clothing         2             500   \n",
       "\n",
       "   Total Amount                    Age_Group  Year  Month  Day Weekday  \n",
       "0           150       Settled Adults (31-40)  2023     11   24  Friday  \n",
       "1          1000  Young Professionals (23-30)  2023      2   27  Monday  "
      ]
     },
     "execution_count": 20,
     "metadata": {},
     "output_type": "execute_result"
    }
   ],
   "source": [
    "df.head(2)"
   ]
  },
  {
   "cell_type": "markdown",
   "id": "8c13ba93-556c-4f52-94e8-45c3b9b0c89d",
   "metadata": {},
   "source": [
    "📊  **Exploratory Data Analysis (EDA)**"
   ]
  },
  {
   "cell_type": "markdown",
   "id": "d02a0c99-2b75-420b-a0c6-1bf449903ecc",
   "metadata": {},
   "source": [
    "👫 **1. What is the gender distribution of customers?**\n"
   ]
  },
  {
   "cell_type": "code",
   "execution_count": 21,
   "id": "1e20185e-41f1-4195-889b-10cb6a0fba1d",
   "metadata": {},
   "outputs": [],
   "source": [
    "sns.set(style='darkgrid')"
   ]
  },
  {
   "cell_type": "markdown",
   "id": "588cb554-3c4e-4d59-982c-e6459afdb310",
   "metadata": {},
   "source": [
    "📂 Save Plot Function – Organized Export of Visualizations"
   ]
  },
  {
   "cell_type": "code",
   "execution_count": 22,
   "id": "c9ee90a5-97ad-4591-bdea-2ffbbad51773",
   "metadata": {},
   "outputs": [],
   "source": [
    "import os\n",
    "def save_plot(filename, folder='Retail sales plot', dpi=300):\n",
    "    \"\"\"\n",
    "    Saves the current plot to a specified folder with the given filename.\n",
    "    Creates the folder if it doesn't exist.\n",
    "    \n",
    "    Parameters:\n",
    "    - filename (str): Name of the file (e.g., 'gender_distribution.png')\n",
    "    - folder (str): Folder to save the plot in (default: 'Retail sales plot')\n",
    "    - dpi (int): Resolution of the image (default: 300)\n",
    "    \"\"\"\n",
    "    if not os.path.exists(folder):\n",
    "        os.makedirs(folder)\n",
    "    full_path = os.path.join(folder, filename)\n",
    "    plt.savefig(full_path, dpi=dpi, bbox_inches='tight')\n",
    "    print(f\"Plot saved to: {full_path}\")\n"
   ]
  },
  {
   "cell_type": "code",
   "execution_count": 23,
   "id": "a9136865-7f52-43bf-9578-907d95060186",
   "metadata": {},
   "outputs": [
    {
     "name": "stdout",
     "output_type": "stream",
     "text": [
      "Plot saved to: Retail sales plot\\Gender Distribution of Customers.png\n"
     ]
    },
    {
     "data": {
      "image/png": "[encoded data removed]",
      "text/plain": [
       "<Figure size 640x480 with 1 Axes>"
      ]
     },
     "metadata": {},
     "output_type": "display_data"
    }
   ],
   "source": [
    "sns.countplot(x='Gender', data=df, palette='colorblind')\n",
    "plt.title('Gender Distribution of Customers', fontsize=16)\n",
    "save_plot('Gender Distribution of Customers.png')\n",
    "plt.show()"
   ]
  },
  {
   "cell_type": "markdown",
   "id": "dc3fb7b9-224c-4a54-ab06-6d1180e97871",
   "metadata": {},
   "source": [
    " 👩‍🦰👨 **Insight on Gender Distribution of Customers**\n",
    "\n",
    "The number of male and female customers is almost the same, with **females making up 51%** and **males making up 49%**. This even split shows that the business reaches both genders equally, highlighting the need to create marketing and products that appeal to both men and women"
   ]
  },
  {
   "cell_type": "markdown",
   "id": "549f5267-f5f9-46e9-afac-b0b8d07eb9db",
   "metadata": {},
   "source": [
    " 💰 **2. Which product categories generate the most revenue?**\n"
   ]
  },
  {
   "cell_type": "code",
   "execution_count": 24,
   "id": "509fa4bc-ab67-4611-898e-9cc4196b4429",
   "metadata": {},
   "outputs": [
    {
     "name": "stdout",
     "output_type": "stream",
     "text": [
      "Plot saved to: Retail sales plot\\Total Revenue by Product Category\n"
     ]
    },
    {
     "data": {
      "image/png": "[encoded data removed]",
      "text/plain": [
       "<Figure size 1000x600 with 1 Axes>"
      ]
     },
     "metadata": {},
     "output_type": "display_data"
    }
   ],
   "source": [
    "def plot_total_revenue_by_category(df):\n",
    "    \"\"\"\n",
    "    Groups the dataset by product category, calculates total revenue per category, \n",
    "    sorts them in descending order, and visualizes the total revenue using a bar plot.\n",
    "    \"\"\"\n",
    "    # Calculate total revenue per product category\n",
    "    df['Revenue'] = df['Total Amount']\n",
    "    revenue_by_category = df.groupby('Product Category')['Revenue'].sum().reset_index()\n",
    "    revenue_by_category = revenue_by_category.sort_values(by='Revenue', ascending=False)\n",
    "\n",
    "    # Create a bar plot for total revenue by product category\n",
    "    plt.figure(figsize=(10, 6))\n",
    "    sns.barplot(data=revenue_by_category,\n",
    "                x='Revenue',\n",
    "                y='Product Category',\n",
    "                palette='viridis')\n",
    "\n",
    "    plt.title('Total Revenue by Product Category(₦)', fontsize=16)\n",
    "    plt.xlabel('Total Revenue(₦)', fontsize=12)\n",
    "    plt.ylabel('Product Category', fontsize=12)\n",
    "    plt.tight_layout()\n",
    "\n",
    "    # Save the plot\n",
    "    save_plot('Total Revenue by Product Category')\n",
    "\n",
    "    # Display the plot\n",
    "    plt.show()\n",
    "plot_total_revenue_by_category(df)"
   ]
  },
  {
   "cell_type": "markdown",
   "id": "c51815b6-bd7a-478e-b7d6-130d3ac95654",
   "metadata": {},
   "source": [
    " 💸  **Insight on Product Revenue Distribution**\n",
    "\n",
    "The bar plot reveals that **Electronics** and **Clothing** are the top-performing product categories, followed closely by **Beauty**. This implies that the business sees the most revenue from these categories. Future strategies should consider increasing focus on these high-revenue categories so as to optimize sales and inventory management."
   ]
  },
  {
   "cell_type": "markdown",
   "id": "fe56042a-7840-4644-96aa-d05f8a810432",
   "metadata": {},
   "source": [
    "📅 **3. How do Sales trends change across different months of the year?**"
   ]
  },
  {
   "cell_type": "code",
   "execution_count": 29,
   "id": "b2f7c29a-c1ad-4473-8ece-c93483c73eda",
   "metadata": {},
   "outputs": [
    {
     "name": "stdout",
     "output_type": "stream",
     "text": [
      "Plot saved to: Retail sales plot\\Monthly Sales Trend\n"
     ]
    },
    {
     "data": {
      "image/png": "[encoded data removed]",
      "text/plain": [
       "<Figure size 1000x600 with 1 Axes>"
      ]
     },
     "metadata": {},
     "output_type": "display_data"
    }
   ],
   "source": [
    "def plot_monthly_sales_trend(df):\n",
    "    \"\"\"\n",
    "    Groups the dataset by month, calculates total sales per month, \n",
    "    sorts them in calendar order, and visualizes the sales trend using a line plot.\n",
    "    \"\"\"\n",
    "    df['Month_Name'] = df['Date'].dt.strftime('%B')\n",
    "    sales_by_month = df.groupby(['Month', 'Month_Name'])['Total Amount'].sum().reset_index()\n",
    "    sales_by_month = sales_by_month.sort_values(by='Month')\n",
    "\n",
    "    plt.figure(figsize=(10, 6))\n",
    "    sns.lineplot(data=sales_by_month, x='Month_Name', y='Total Amount', marker='o', sort=False)\n",
    "\n",
    "    plt.title('Monthly Sales Trend', fontsize=16)\n",
    "    plt.xlabel('Month', fontsize=12)\n",
    "    plt.ylabel('Total Sales (₦)', fontsize=12)\n",
    "    plt.xticks(rotation=45)\n",
    "    plt.tight_layout()\n",
    "    save_plot('Monthly Sales Trend')\n",
    "    plt.show()\n",
    "plot_monthly_sales_trend(df)"
   ]
  },
  {
   "cell_type": "markdown",
   "id": "b59425ec-500b-42bb-9f39-9e3aee583859",
   "metadata": {},
   "source": [
    "📈 **Insight on Monthly Sales Trend**\n",
    "\n",
    "The line chart shows noticeable changes from month to month. Sales peak in **May**, making it the highest performing month, while **September** records the lowest. Other months like **February**, **October**, and **December** also show strong sales, suggesting possible seasonal influences or promotional events. The trend reflects non-uniform sales distribution, emphasizing the importance of understanding seasonal demand to optimize marketing and inventory strategies."
   ]
  },
  {
   "cell_type": "markdown",
   "id": "243ea302-372b-4353-b436-ea42ffb820fb",
   "metadata": {},
   "source": [
    "💳**4. Which age group spends the most on retail products?**"
   ]
  },
  {
   "cell_type": "code",
   "execution_count": null,
   "id": "44ee7976-cad4-4c25-9adc-b1aba41f65ef",
   "metadata": {},
   "outputs": [],
   "source": []
  }
 ],
 "metadata": {
  "kernelspec": {
   "display_name": "Python 3 (ipykernel)",
   "language": "python",
   "name": "python3"
  },
  "language_info": {
   "codemirror_mode": {
    "name": "ipython",
    "version": 3
   },
   "file_extension": ".py",
   "mimetype": "text/x-python",
   "name": "python",
   "nbconvert_exporter": "python",
   "pygments_lexer": "ipython3",
   "version": "3.12.7"
  }
 },
 "nbformat": 4,
 "nbformat_minor": 5
}
